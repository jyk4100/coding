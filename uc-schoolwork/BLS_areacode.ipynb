{
 "cells": [
  {
   "cell_type": "code",
   "execution_count": null,
   "metadata": {
    "collapsed": true
   },
   "outputs": [],
   "source": [
    "## --- save area code for API --------------------------------------------------------------------- ##\n",
    "# importing library\n",
    "import numpy as np\n",
    "import pandas as pd"
   ]
  },
  {
   "cell_type": "code",
   "execution_count": null,
   "metadata": {
    "collapsed": true
   },
   "outputs": [],
   "source": [
    "# obtain area code information from BLS\n",
    "areacodes = pd.read_table(\"http://download.bls.gov/pub/time.series/la/la.area\")\n",
    "# remove irrelevant columns such as \"selectable\"\n",
    "areacodes = areacodes.drop(areacodes.columns[[2, 3, 4, 5]], axis=1)\n",
    "# subset state (+ Washington DC) only\n",
    "areacode_ST = areacodes[0:51].copy()\n",
    "\n",
    "# ! modification on slice warning !\n",
    "# it happened before (on assignment) and TA said not necessary but it not executing without copy\n",
    "# rather have original, subset rows and modify subset then modify entire dataframe and subset\n",
    "\n",
    "# rename columns\n",
    "areacode_ST.rename(columns = {\"area_code\" : \"STATE\", \"area_type_code\" : \"area_code\"}, inplace = True)\n",
    "\n",
    "# save for reference in txt file\n",
    "with open(\"BLS_LA_AREACODE.txt\", \"w\") as out:\n",
    "    for x in zip(areacode_ST[\"STATE\"], areacode_ST[\"area_code\"]):\n",
    "        out.write(\"{} {}\\n\".format(x[0], x[1]))\n",
    "\n",
    "# save for reference in csv\n",
    "areacode_ST.to_csv(\"BLS_LA_AREACODE.csv\")"
   ]
  }
 ],
 "metadata": {
  "kernelspec": {
   "display_name": "Python 3",
   "language": "python",
   "name": "python3"
  },
  "language_info": {
   "codemirror_mode": {
    "name": "ipython",
    "version": 3
   },
   "file_extension": ".py",
   "mimetype": "text/x-python",
   "name": "python",
   "nbconvert_exporter": "python",
   "pygments_lexer": "ipython3",
   "version": "3.5.2"
  }
 },
 "nbformat": 4,
 "nbformat_minor": 0
}
